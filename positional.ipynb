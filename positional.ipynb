{
 "cells": [
  {
   "cell_type": "code",
   "execution_count": 77,
   "metadata": {},
   "outputs": [],
   "source": [
    "import torch\n",
    "import torchvision.transforms as transforms"
   ]
  },
  {
   "cell_type": "code",
   "execution_count": 78,
   "metadata": {},
   "outputs": [],
   "source": [
    "def get_positional_embedding(x_matrix, y_matrix, degree):\n",
    "    layers = []\n",
    "\n",
    "    for d in range(degree):\n",
    "        freq = 2**d\n",
    "        layers.append(torch.sin(freq * x_matrix))\n",
    "        layers.append(torch.cos(freq * x_matrix))\n",
    "        layers.append(torch.sin(freq * y_matrix))\n",
    "        layers.append(torch.cos(freq * y_matrix))\n",
    "\n",
    "    return torch.stack(layers, dim=0)\n",
    "\n",
    "def get_pixel_coordinates(size):\n",
    "    row = torch.arange(0, size) / (size - 1)\n",
    "    x_matrix = torch.stack([row] * size)\n",
    "    y_matrix = x_matrix.T\n",
    "    return x_matrix, y_matrix"
   ]
  },
  {
   "cell_type": "code",
   "execution_count": 84,
   "metadata": {},
   "outputs": [
    {
     "name": "stdout",
     "output_type": "stream",
     "text": [
      "tensor([[[[0.0000, 0.1429, 0.2857, 0.4286, 0.5714, 0.7143, 0.8571, 1.0000],\n",
      "          [0.0000, 0.1429, 0.2857, 0.4286, 0.5714, 0.7143, 0.8571, 1.0000],\n",
      "          [0.0000, 0.1429, 0.2857, 0.4286, 0.5714, 0.7143, 0.8571, 1.0000],\n",
      "          [0.0000, 0.1429, 0.2857, 0.4286, 0.5714, 0.7143, 0.8571, 1.0000],\n",
      "          [0.0000, 0.1429, 0.2857, 0.4286, 0.5714, 0.7143, 0.8571, 1.0000],\n",
      "          [0.0000, 0.1429, 0.2857, 0.4286, 0.5714, 0.7143, 0.8571, 1.0000],\n",
      "          [0.0000, 0.1429, 0.2857, 0.4286, 0.5714, 0.7143, 0.8571, 1.0000],\n",
      "          [0.0000, 0.1429, 0.2857, 0.4286, 0.5714, 0.7143, 0.8571, 1.0000]]]])\n",
      "tensor([[[[0.0000, 0.2857, 0.5714, 0.8571],\n",
      "          [0.0000, 0.2857, 0.5714, 0.8571],\n",
      "          [0.0000, 0.2857, 0.5714, 0.8571],\n",
      "          [0.0000, 0.2857, 0.5714, 0.8571]]]])\n"
     ]
    }
   ],
   "source": [
    "# get_positional_embedding(4, 1)\n",
    "size = 8\n",
    "x_matrix, _ = get_pixel_coordinates(size)\n",
    "x_matrix = x_matrix.unsqueeze(0).unsqueeze(0)\n",
    "print(x_matrix)\n",
    "interpolation = transforms.InterpolationMode.NEAREST\n",
    "resize = transforms.Resize(size // 2, interpolation)\n",
    "x_matrix = resize(x_matrix)\n",
    "print(x_matrix)"
   ]
  }
 ],
 "metadata": {
  "kernelspec": {
   "display_name": "Python 3",
   "language": "python",
   "name": "python3"
  },
  "language_info": {
   "codemirror_mode": {
    "name": "ipython",
    "version": 3
   },
   "file_extension": ".py",
   "mimetype": "text/x-python",
   "name": "python",
   "nbconvert_exporter": "python",
   "pygments_lexer": "ipython3",
   "version": "3.11.5"
  }
 },
 "nbformat": 4,
 "nbformat_minor": 2
}
