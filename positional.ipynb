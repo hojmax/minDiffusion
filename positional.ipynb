{
 "cells": [
  {
   "cell_type": "code",
   "execution_count": 40,
   "metadata": {},
   "outputs": [],
   "source": [
    "import torch"
   ]
  },
  {
   "cell_type": "code",
   "execution_count": 50,
   "metadata": {},
   "outputs": [],
   "source": [
    "def get_positional_embedding(size, degree):\n",
    "    row = torch.arange(0, size) / (size - 1)\n",
    "    x_matrix = torch.stack([row] * size)\n",
    "    y_matrix = x_matrix.T\n",
    "    layers = []\n",
    "\n",
    "    for d in range(degree + 1):\n",
    "        layers.append(torch.sin(2**d * x_matrix))\n",
    "        layers.append(torch.sin(2**d * y_matrix))\n",
    "\n",
    "    return torch.stack(layers, dim=0)"
   ]
  },
  {
   "cell_type": "code",
   "execution_count": 56,
   "metadata": {},
   "outputs": [
    {
     "data": {
      "text/plain": [
       "tensor([[[ 0.0000,  0.3272,  0.6184,  0.8415],\n",
       "         [ 0.0000,  0.3272,  0.6184,  0.8415],\n",
       "         [ 0.0000,  0.3272,  0.6184,  0.8415],\n",
       "         [ 0.0000,  0.3272,  0.6184,  0.8415]],\n",
       "\n",
       "        [[ 0.0000,  0.0000,  0.0000,  0.0000],\n",
       "         [ 0.3272,  0.3272,  0.3272,  0.3272],\n",
       "         [ 0.6184,  0.6184,  0.6184,  0.6184],\n",
       "         [ 0.8415,  0.8415,  0.8415,  0.8415]],\n",
       "\n",
       "        [[ 0.0000,  0.6184,  0.9719,  0.9093],\n",
       "         [ 0.0000,  0.6184,  0.9719,  0.9093],\n",
       "         [ 0.0000,  0.6184,  0.9719,  0.9093],\n",
       "         [ 0.0000,  0.6184,  0.9719,  0.9093]],\n",
       "\n",
       "        [[ 0.0000,  0.0000,  0.0000,  0.0000],\n",
       "         [ 0.6184,  0.6184,  0.6184,  0.6184],\n",
       "         [ 0.9719,  0.9719,  0.9719,  0.9719],\n",
       "         [ 0.9093,  0.9093,  0.9093,  0.9093]],\n",
       "\n",
       "        [[ 0.0000,  0.9719,  0.4573, -0.7568],\n",
       "         [ 0.0000,  0.9719,  0.4573, -0.7568],\n",
       "         [ 0.0000,  0.9719,  0.4573, -0.7568],\n",
       "         [ 0.0000,  0.9719,  0.4573, -0.7568]],\n",
       "\n",
       "        [[ 0.0000,  0.0000,  0.0000,  0.0000],\n",
       "         [ 0.9719,  0.9719,  0.9719,  0.9719],\n",
       "         [ 0.4573,  0.4573,  0.4573,  0.4573],\n",
       "         [-0.7568, -0.7568, -0.7568, -0.7568]]])"
      ]
     },
     "execution_count": 56,
     "metadata": {},
     "output_type": "execute_result"
    }
   ],
   "source": [
    "get_positional_embedding(4, 2)"
   ]
  }
 ],
 "metadata": {
  "kernelspec": {
   "display_name": "Python 3",
   "language": "python",
   "name": "python3"
  },
  "language_info": {
   "codemirror_mode": {
    "name": "ipython",
    "version": 3
   },
   "file_extension": ".py",
   "mimetype": "text/x-python",
   "name": "python",
   "nbconvert_exporter": "python",
   "pygments_lexer": "ipython3",
   "version": "3.11.5"
  }
 },
 "nbformat": 4,
 "nbformat_minor": 2
}
