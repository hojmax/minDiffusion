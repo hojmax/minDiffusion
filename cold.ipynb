{
 "cells": [
  {
   "cell_type": "code",
   "execution_count": 18,
   "metadata": {},
   "outputs": [],
   "source": [
    "from torchvision import transforms, datasets\n",
    "import torch\n",
    "import matplotlib.pyplot as plt"
   ]
  },
  {
   "cell_type": "code",
   "execution_count": 19,
   "metadata": {},
   "outputs": [],
   "source": [
    "class Pixelate:\n",
    "    def __init__(self, transforms, n_between):\n",
    "        self.transforms = transforms\n",
    "        self.transforms.insert(0, self.set_image_to_random_grey)\n",
    "        self.n_between = n_between\n",
    "        self.n_transforms = len(transforms)\n",
    "        self.T = self.n_transforms + (self.n_transforms - 1) * self.n_between\n",
    "\n",
    "    def seed(self, seed):\n",
    "        torch.manual_seed(seed)\n",
    "\n",
    "    def set_image_to_random_grey(self, image):\n",
    "        return image * 0 + torch.rand(1)\n",
    "\n",
    "    def forward(self, image, t):\n",
    "        \"\"\"t is zero indexed from 0 to T-1\"\"\"\n",
    "        fromIndex = t // (self.n_between + 1)\n",
    "        interpolation = (t % (self.n_between + 1)) / (self.n_between + 1)\n",
    "        fromImage = self.transforms[fromIndex](image)\n",
    "        if interpolation == 0:\n",
    "            return fromImage\n",
    "        else:\n",
    "            toIndex = fromIndex + 1\n",
    "            toImage = self.transforms[toIndex](image)\n",
    "            return (1 - interpolation) * fromImage + interpolation * toImage"
   ]
  },
  {
   "cell_type": "code",
   "execution_count": 20,
   "metadata": {},
   "outputs": [],
   "source": [
    "interpolation = transforms.InterpolationMode.NEAREST\n",
    "scales = [\n",
    "    transforms.Compose(\n",
    "        [\n",
    "            transforms.Resize((8, 8), interpolation),\n",
    "            transforms.Resize((32, 32), interpolation),\n",
    "        ]\n",
    "    ),\n",
    "    transforms.Compose(\n",
    "        [\n",
    "            transforms.Resize((16, 16), interpolation),\n",
    "            transforms.Resize((32, 32), interpolation),\n",
    "        ]\n",
    "    ),\n",
    "    transforms.Resize((32, 32), interpolation),\n",
    "]\n",
    "N_transitions = 2\n",
    "pixelate = Pixelate(scales, N_transitions)"
   ]
  },
  {
   "cell_type": "code",
   "execution_count": 21,
   "metadata": {},
   "outputs": [],
   "source": [
    "mnist_transform = transforms.Compose(\n",
    "    [\n",
    "        transforms.Resize(32),\n",
    "        transforms.ToTensor(),\n",
    "    ]\n",
    ")\n",
    "train_dataset = datasets.MNIST(\n",
    "    root=\"./data\", train=True, transform=mnist_transform, download=True\n",
    ")"
   ]
  },
  {
   "cell_type": "code",
   "execution_count": 22,
   "metadata": {},
   "outputs": [],
   "source": [
    "def showImageList(images):\n",
    "    # show images side by side\n",
    "    fig = plt.figure(figsize=(20, 5))\n",
    "    for i, image in enumerate(images):\n",
    "        ax = fig.add_subplot(1, len(images), i + 1)\n",
    "        ax.axis(\"off\")\n",
    "        ax.imshow(image.squeeze(), cmap=\"gray\", vmin=0, vmax=1)"
   ]
  },
  {
   "cell_type": "code",
   "execution_count": 23,
   "metadata": {},
   "outputs": [
    {
     "data": {
      "image/png": "[encoded data removed]",
      "text/plain": [
       "<Figure size 2000x500 with 10 Axes>"
      ]
     },
     "metadata": {},
     "output_type": "display_data"
    }
   ],
   "source": [
    "test_image = train_dataset[0][0]\n",
    "\n",
    "showImageList([\n",
    "    pixelate.seed(2) or pixelate.forward(test_image, t) for t in range(pixelate.T)\n",
    "])"
   ]
  }
 ],
 "metadata": {
  "kernelspec": {
   "display_name": "Python 3",
   "language": "python",
   "name": "python3"
  },
  "language_info": {
   "codemirror_mode": {
    "name": "ipython",
    "version": 3
   },
   "file_extension": ".py",
   "mimetype": "text/x-python",
   "name": "python",
   "nbconvert_exporter": "python",
   "pygments_lexer": "ipython3",
   "version": "3.11.5"
  },
  "orig_nbformat": 4
 },
 "nbformat": 4,
 "nbformat_minor": 2
}
